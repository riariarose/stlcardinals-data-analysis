{
 "cells": [
  {
   "cell_type": "code",
   "execution_count": 167,
   "metadata": {},
   "outputs": [],
   "source": [
    "\"\"\"\n",
    "Final Project: Cardinals\n",
    "Author: Zach Grasso\n",
    "Task 1: The top 12 players overall, and how they compare to the 12 players    listed on the dataset website (found by using a WAR score)\n",
    "\n",
    "\"\"\"\n",
    "### Imports\n",
    "import pandas as pd\n",
    "import numpy as np\n",
    "import matplotlib.pyplot as plt\n",
    "import main\n",
    "import sklearn\n",
    "from sklearn.linear_model import LinearRegression\n",
    "from sklearn.model_selection import train_test_split"
   ]
  },
  {
   "cell_type": "code",
   "execution_count": 168,
   "metadata": {},
   "outputs": [
    {
     "name": "stdout",
     "output_type": "stream",
     "text": [
      "                 Name  WAR\n",
      "35      Tyler O'Neill  6.3\n",
      "16   Paul Goldschmidt  6.1\n",
      "0       Nolan Arenado  4.1\n",
      "1      Harrison Bader  3.9\n",
      "46    Adam Wainwright  3.7\n",
      "8         Tommy Edman  3.7\n",
      "3       Dylan Carlson  3.2\n",
      "43       Edmundo Sosa  3.2\n",
      "31      Yadier Molina  1.8\n",
      "6         Paul DeJong  1.6\n",
      "22     Kwang Hyun Kim  1.2\n",
      "13  Giovanny Gallegos  1.1\n"
     ]
    }
   ],
   "source": [
    "#Task 1: The top 12 players overall found using a WAR score\n",
    "roster_file = 'data/roster.csv'\n",
    "roster = main.get_data(roster_file)\n",
    "\n",
    "roster.sort_values(by=['WAR'], ascending=False, inplace=True)\n",
    "#print the top 12 results with name and WAR score\n",
    "print(roster[['Name', 'WAR']].head(12))\n"
   ]
  },
  {
   "cell_type": "code",
   "execution_count": 169,
   "metadata": {},
   "outputs": [
    {
     "data": {
      "text/plain": [
       "<BarContainer object of 12 artists>"
      ]
     },
     "execution_count": 169,
     "metadata": {},
     "output_type": "execute_result"
    },
    {
     "data": {
      "image/png": "[encoded data removed]",
      "text/plain": [
       "<Figure size 432x288 with 1 Axes>"
      ]
     },
     "metadata": {
      "needs_background": "light"
     },
     "output_type": "display_data"
    }
   ],
   "source": [
    "# Task 1: Using matplotlib plot the top 12 players overall\n",
    "roster.sort_values(by=['WAR'], ascending=False, inplace=True)\n",
    "# plot the top 12 players overall\n",
    "labels = roster.Name.values[0:12]\n",
    "values = roster.WAR.values[0:12]\n",
    "plt.title(label= \"The top 12 players overall using WAR score\")\n",
    "plt.xlabel(\"Players\")\n",
    "plt.ylabel(\"WAR\")\n",
    "plt.bar(labels, values)"
   ]
  },
  {
   "cell_type": "code",
   "execution_count": 170,
   "metadata": {},
   "outputs": [
    {
     "data": {
      "image/png": "[encoded data removed]",
      "text/plain": [
       "<Figure size 432x288 with 1 Axes>"
      ]
     },
     "metadata": {
      "needs_background": "light"
     },
     "output_type": "display_data"
    }
   ],
   "source": [
    "# Task 5: Determining if a player's performance is directly proportional to their age\n",
    "#use linear regression on age and WAR of roster\n",
    "linear = roster[['Age', 'WAR']].copy(deep=True)\n",
    "\n",
    "linear.plot(x='Age', y='WAR', style='o')\n",
    "plt.title('Age vs WAR Score')\n",
    "plt.xlabel('Age of player')\n",
    "plt.ylabel('WAR Score')\n",
    "plt.show()\n"
   ]
  },
  {
   "cell_type": "code",
   "execution_count": 171,
   "metadata": {},
   "outputs": [
    {
     "name": "stdout",
     "output_type": "stream",
     "text": [
      "Mean Absolute Error: 1.252489462132182\n",
      "Mean Squared Error: 2.6408309666885823\n",
      "Root Mean Squared Error: 1.6250633731299782\n",
      "             Age        WAR\n",
      "count  51.000000  51.000000\n",
      "mean   28.470588   0.745098\n",
      "std     4.644795   1.715496\n",
      "min    22.000000  -1.400000\n",
      "25%    25.000000  -0.150000\n",
      "50%    27.000000   0.100000\n",
      "75%    32.000000   0.900000\n",
      "max    39.000000   6.300000\n",
      "Accuracy: -0.1658659769750379\n"
     ]
    }
   ],
   "source": [
    "#Age\n",
    "x = linear.iloc[:, :-1].values\n",
    "#War Score\n",
    "y = linear.iloc[:, 1].values\n",
    "\n",
    "#splits the data into 80% training and 20% testing\n",
    "x_train, x_test, y_train, y_test = train_test_split(x, y, test_size=0.2, random_state=0)\n",
    "\n",
    "regression = LinearRegression()\n",
    "regression.fit(x_train, y_train)\n",
    "y_pred = regression.predict(x_test)\n",
    "\n",
    "predicted_age = pd.DataFrame({'Actual': y_test, 'Predicted': y_pred})\n",
    "#print(predicted_age)\n",
    "\n",
    "# Get the accuracy of the model\n",
    "print('Mean Absolute Error:', sklearn.metrics.mean_absolute_error(y_test, y_pred))\n",
    "print('Mean Squared Error:', sklearn.metrics.mean_squared_error(y_test, y_pred))\n",
    "print('Root Mean Squared Error:', np.sqrt(sklearn.metrics.mean_squared_error(y_test, y_pred)))\n",
    "print(linear.describe())\n",
    "print('Accuracy:', sklearn.metrics.r2_score(y_test, y_pred))\n",
    "\n",
    "# The root Mean Squared Error is the most important metric for determining the accuracy of a model.\n",
    "# The root mean squared error is considerably higher then the mean of the original data. Meaning that the model is not very accurate. Thus the data is not linear. And is nota good correlation of age and performance."
   ]
  },
  {
   "cell_type": "code",
   "execution_count": 172,
   "metadata": {},
   "outputs": [
    {
     "name": "stdout",
     "output_type": "stream",
     "text": [
      "Accuracy: 0.497305231793883\n"
     ]
    }
   ],
   "source": [
    "# create a decision tree for age and WAR\n",
    "from sklearn.tree import DecisionTreeRegressor\n",
    "\n",
    "decTree = roster[['Age', 'G', 'OF','Yrs']].copy()\n",
    "X_train, X_test, y_train, y_test = train_test_split(decTree, roster['WAR'], test_size = 0.25, random_state = 1)\n",
    "\n",
    "clf_model = DecisionTreeRegressor(random_state=1)\n",
    "clf_model.fit(X_train, y_train)\n",
    "#y_predict = clf_model.predict(x_test)\n",
    "\n",
    "print('Accuracy:', clf_model.score(X_test, y_test))"
   ]
  },
  {
   "cell_type": "code",
   "execution_count": 173,
   "metadata": {},
   "outputs": [],
   "source": [
    "# attempt to print decision tree\n",
    "\n",
    "from sklearn.tree import export_graphviz\n",
    "\n",
    "export_graphviz(clf_model, out_file='tree.dot', feature_names=['Age', 'G', 'OF', 'Yrs'],)\n",
    "\n"
   ]
  }
 ],
 "metadata": {
  "interpreter": {
   "hash": "c0d8302ae5d8affc07a01a2191b4228bd1e1f8c406bc0ba2bd9d608e7391e3b3"
  },
  "kernelspec": {
   "display_name": "Python 3.9.7 64-bit",
   "language": "python",
   "name": "python3"
  },
  "language_info": {
   "codemirror_mode": {
    "name": "ipython",
    "version": 3
   },
   "file_extension": ".py",
   "mimetype": "text/x-python",
   "name": "python",
   "nbconvert_exporter": "python",
   "pygments_lexer": "ipython3",
   "version": "3.9.7"
  },
  "orig_nbformat": 4
 },
 "nbformat": 4,
 "nbformat_minor": 2
}
