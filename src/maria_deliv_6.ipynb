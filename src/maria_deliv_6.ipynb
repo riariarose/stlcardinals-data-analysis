{
 "cells": [
  {
   "cell_type": "code",
   "execution_count": 22,
   "metadata": {},
   "outputs": [],
   "source": [
    "'''---------------------------------------------\n",
    "CSC535-FA2021\n",
    "Data Mining\n",
    "Final Group Project\n",
    "\n",
    "Maria Deliverable #2\n",
    "Determining if a player's performance is directly proportional to their salary/contract\n",
    "'''\n",
    "import pandas as pd\n",
    "import numpy as np\n",
    "\n",
    "#loading CSV file and saving it as a DataFrame\n",
    "def get_data(fileName):\n",
    "    df = pd.read_csv(fileName)\n",
    "    return df"
   ]
  },
  {
   "cell_type": "code",
   "execution_count": 23,
   "metadata": {},
   "outputs": [],
   "source": [
    "#preprocessing  data\n",
    "def process_data(df):\n",
    "    #need to pull data from the roster file to get the player's war score\n",
    "    #need to pull data from original dataset website to get player's salary for comparrison\n",
    "    df[['Player','WAR','Salary']].copy()\n",
    "    # You can take this following out I thought it might help you read it\n",
    "    df.rename(columns={'Player':'Name','WAR':'WAR_Score'})\n",
    "\n",
    "\n",
    "    return df"
   ]
  },
  {
   "cell_type": "code",
   "execution_count": 24,
   "metadata": {},
   "outputs": [],
   "source": [
    "# function to graph if a player's performance is directly proportional to their salary/contract\n",
    "import matplotlib.pyplot as plt\n",
    "\n",
    "def graph_scatterplot(df):\n",
    "    #create a scatterplot of player's salary vs. their WAR score\n",
    "    plt.scatter(df['Salary'],df['WAR_Score'])\n",
    "    plt.xlabel('Salary')\n",
    "    plt.ylabel('WAR Score')\n",
    "    plt.title('WAR Score vs. Salary')\n",
    "    plt.show()"
   ]
  },
  {
   "cell_type": "code",
   "execution_count": null,
   "metadata": {},
   "outputs": [],
   "source": []
  },
  {
   "cell_type": "code",
   "execution_count": 25,
   "metadata": {},
   "outputs": [],
   "source": [
    "# Using decision tree to determine if a player's performance is directly proportional to their salary/contract\n",
    "from sklearn.tree import DecisionTreeRegressor\n",
    "from sklearn.model_selection import train_test_split\n",
    "def decision_tree(df):\n",
    "    x = df[['Salary']].copy()\n",
    "    y = df['WAR_Score'].copy()\n",
    "    X_train, X_test, y_train, y_test = train_test_split(x, y, test_size = 0.25, random_state = 1)\n",
    "\n",
    "    clf_model = DecisionTreeRegressor(random_state=1)\n",
    "    clf_model.fit(X_train, y_train)\n",
    "    #y_predict = clf_model.predict(x_test)\n",
    "\n",
    "    print('Accuracy:', clf_model.score(X_test, y_test))"
   ]
  },
  {
   "cell_type": "code",
   "execution_count": 26,
   "metadata": {},
   "outputs": [],
   "source": [
    "def main():\n",
    "    roster_file = \"full_roster.csv\"\n",
    "    df = get_data(roster_file)\n",
    "    df = process_data(df)\n",
    "    print(df.head())\n",
    "    \n",
    "    decision_tree(df)\n",
    "    graph_scatterplot(df)"
   ]
  }
 ],
 "metadata": {
  "interpreter": {
   "hash": "c0d8302ae5d8affc07a01a2191b4228bd1e1f8c406bc0ba2bd9d608e7391e3b3"
  },
  "kernelspec": {
   "display_name": "Python 3.9.0 64-bit",
   "language": "python",
   "name": "python3"
  },
  "language_info": {
   "codemirror_mode": {
    "name": "ipython",
    "version": 3
   },
   "file_extension": ".py",
   "mimetype": "text/x-python",
   "name": "python",
   "nbconvert_exporter": "python",
   "pygments_lexer": "ipython3",
   "version": "3.9.0"
  },
  "orig_nbformat": 4
 },
 "nbformat": 4,
 "nbformat_minor": 2
}
