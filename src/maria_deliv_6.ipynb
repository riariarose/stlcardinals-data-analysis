{
 "cells": [
  {
   "cell_type": "code",
   "execution_count": null,
   "metadata": {},
   "outputs": [],
   "source": [
    "'''---------------------------------------------\n",
    "CSC535-FA2021\n",
    "Data Mining\n",
    "Final Group Project\n",
    "\n",
    "Maria Deliverable #2\n",
    "Determining if a player's performance is directly proportional to their salary/contract\n",
    "'''\n",
    "import pandas as pd\n",
    "import numpy as np\n",
    "\n",
    "#loading CSV file and saving it as a DataFrame\n",
    "def get_data(fileName):\n",
    "    df = pd.read_csv(fileName)\n",
    "    return df"
   ]
  },
  {
   "cell_type": "code",
   "execution_count": null,
   "metadata": {},
   "outputs": [],
   "source": [
    "#preprocessing  data\n",
    "def process_data(df):\n",
    "    #need to pull data from the roster file to get the player's war score\n",
    "    #need to pull data from original dataset website to get player's salary for comparrison\n",
    "\n",
    "    return 0"
   ]
  },
  {
   "cell_type": "code",
   "execution_count": null,
   "metadata": {},
   "outputs": [],
   "source": [
    "def main():\n",
    "    roster_file = \"full_roster.csv\"\n",
    "    df = get_data(roster_file)\n",
    "    process_data(df)"
   ]
  }
 ],
 "metadata": {
  "language_info": {
   "name": "python"
  },
  "orig_nbformat": 4
 },
 "nbformat": 4,
 "nbformat_minor": 2
}
